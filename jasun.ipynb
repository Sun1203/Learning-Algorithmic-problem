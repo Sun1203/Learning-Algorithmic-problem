{
 "cells": [
  {
   "cell_type": "code",
   "execution_count": 1,
   "metadata": {},
   "outputs": [
    {
     "data": {
      "text/plain": [
       "{10, 20, 30}"
      ]
     },
     "execution_count": 1,
     "metadata": {},
     "output_type": "execute_result"
    }
   ],
   "source": [
    "# 한반에1 ~31번까지의 학생이 있다.\n",
    "#이 반에는 우유당번과 칠판닦는 당번이 있다\n",
    "#이번달은 2의배수인 번호들이 돌아가면서 우유당번을 한다.\n",
    "#그리고 5의 배수인 번호들은  돌아가면서 칠판닦는 당번을한다\n",
    "#2의배수 5의배수 번호들은 당번 둘다해야한다\n",
    "# 우유당번과 칠판당번들을 구하는프로그램을 만드시오\n",
    "\n",
    "\n",
    "\n",
    "\n",
    "idx = 2\n",
    "set_2 = set()\n",
    "while idx < 31:\n",
    "    set_2.add(idx)\n",
    "    idx = idx + 2\n",
    "#     print(set_2)\n",
    "\n",
    "    \n",
    "    \n",
    "idx1 = 5\n",
    "set3 = set()\n",
    "while idx1 < 31 :\n",
    "    set3.add(idx1)\n",
    "    idx1 = idx1 +5\n",
    "#     print(set3)\n",
    "    \n",
    "     \n",
    "set3 & set_2"
   ]
  },
  {
   "cell_type": "code",
   "execution_count": null,
   "metadata": {},
   "outputs": [],
   "source": []
  }
 ],
 "metadata": {
  "kernelspec": {
   "display_name": "Python 3",
   "language": "python",
   "name": "python3"
  },
  "language_info": {
   "codemirror_mode": {
    "name": "ipython",
    "version": 3
   },
   "file_extension": ".py",
   "mimetype": "text/x-python",
   "name": "python",
   "nbconvert_exporter": "python",
   "pygments_lexer": "ipython3",
   "version": "3.8.5"
  }
 },
 "nbformat": 4,
 "nbformat_minor": 4
}
